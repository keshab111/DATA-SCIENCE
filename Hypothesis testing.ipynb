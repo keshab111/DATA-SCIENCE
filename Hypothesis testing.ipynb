{
 "cells": [
  {
   "cell_type": "code",
   "execution_count": 1,
   "id": "feee8b7e-c1e2-48f6-9996-90dc0232653b",
   "metadata": {},
   "outputs": [
    {
     "name": "stdout",
     "output_type": "stream",
     "text": [
      "Test Statistic (t): -38.0\n",
      "Critical Value (Z): 1.6448536269514722\n",
      "Fail to reject the null hypothesis.\n",
      "There is not enough evidence to support the claim that the weekly operating costs are higher than the model suggests.\n"
     ]
    }
   ],
   "source": [
    "import scipy.stats as stats\n",
    "import math\n",
    "\n",
    "# Given data\n",
    "sample_mean = 3050  # Rs\n",
    "mu_X = 600  # units\n",
    "sigma_X = 25  # units\n",
    "n = 25  # sample size\n",
    "alpha = 0.05\n",
    "\n",
    "# Theoretical mean weekly cost\n",
    "mu_W = 1000 + 5 * mu_X  # Rs\n",
    "\n",
    "# Standard deviation of weekly cost\n",
    "sigma_W = 5 * sigma_X  # Rs\n",
    "\n",
    "# Calculate the test statistic\n",
    "t_statistic = (sample_mean - mu_W) / (sigma_W / math.sqrt(n))\n",
    "\n",
    "# Determine the critical value from the Z distribution for alpha = 0.05\n",
    "critical_value = stats.norm.ppf(1 - alpha)\n",
    "\n",
    "# Print results\n",
    "print(f\"Test Statistic (t): {t_statistic}\")\n",
    "print(f\"Critical Value (Z): {critical_value}\")\n",
    "\n",
    "# Make a decision\n",
    "if t_statistic > critical_value:\n",
    "    print(\"Reject the null hypothesis.\")\n",
    "    conclusion = \"There is strong evidence to support the claim that the weekly operating costs are higher than the model suggests.\"\n",
    "else:\n",
    "    print(\"Fail to reject the null hypothesis.\")\n",
    "    conclusion = \"There is not enough evidence to support the claim that the weekly operating costs are higher than the model suggests.\"\n",
    "\n",
    "print(conclusion)\n"
   ]
  },
  {
   "cell_type": "code",
   "execution_count": null,
   "id": "84e89a42-41c3-4862-9d69-7c1597ebcd22",
   "metadata": {},
   "outputs": [],
   "source": []
  },
  {
   "cell_type": "code",
   "execution_count": null,
   "id": "1c751d7f-31cd-4563-b2fd-b1ee5619a2c1",
   "metadata": {},
   "outputs": [],
   "source": []
  }
 ],
 "metadata": {
  "kernelspec": {
   "display_name": "anaconda-panel-2023.05-py310",
   "language": "python",
   "name": "conda-env-anaconda-panel-2023.05-py310-py"
  },
  "language_info": {
   "codemirror_mode": {
    "name": "ipython",
    "version": 3
   },
   "file_extension": ".py",
   "mimetype": "text/x-python",
   "name": "python",
   "nbconvert_exporter": "python",
   "pygments_lexer": "ipython3",
   "version": "3.11.5"
  }
 },
 "nbformat": 4,
 "nbformat_minor": 5
}
