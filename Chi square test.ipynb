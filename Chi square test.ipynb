{
 "cells": [
  {
   "cell_type": "code",
   "execution_count": null,
   "id": "89c3f047-785f-4146-95de-0b3b17c5368d",
   "metadata": {},
   "outputs": [],
   "source": [
    "import numpy as np\n",
    "import scipy.stats as stats\n",
    "\n",
    "# Data provided in the contingency table\n",
    "data = np.array([\n",
    "    [50, 70],\n",
    "    [80, 100],\n",
    "    [60, 90],\n",
    "    [30, 50],\n",
    "    [20, 50]\n",
    "])\n",
    "\n",
    "# 1. State the Hypotheses:\n",
    "# Null Hypothesis (H0): There is no association between the type of device and customer satisfaction.\n",
    "# Alternative Hypothesis (H1): There is an association between the type of device and customer satisfaction.\n",
    "\n",
    "# 2. Compute the Chi-Square Statistic:\n",
    "chi2_statistic, p_value, dof, expected = stats.chi2_contingency(data)\n",
    "\n",
    "# 3. Determine the Critical Value:\n",
    "alpha = 0.05\n",
    "critical_value = stats.chi2.ppf(1 - alpha, dof)\n",
    "\n",
    "# 4. Make a Decision:\n",
    "if chi2_statistic > critical_value:\n",
    "    conclusion = \"Reject the null hypothesis. There is a significant association between the type of device and customer satisfaction.\"\n",
    "else:\n",
    "    conclusion = \"Fail to reject the null hypothesis. There is no significant association between the type of device and customer satisfaction.\"\n",
    "\n",
    "# Detailed report\n",
    "report = f\"\"\"\n",
    "Chi-Square Test for Independence\n",
    "\n",
    "1. State the Hypotheses:\n",
    "   Null Hypothesis (H0): There is no association between the type of device and customer satisfaction.\n",
    "   Alternative Hypothesis (H1): There is an association between the type of device and customer satisfaction.\n",
    "\n",
    "2. Compute the Chi-Square Statistic:\n",
    "   Chi-Square Statistic: {chi2_statistic}\n",
    "   Degrees of Freedom: {dof}\n",
    "   P-Value: {p_value}\n",
    "   Expected Frequencies: \n",
    "   {expected}\n",
    "\n",
    "3. Determine the Critical Value:\n",
    "   Significance Level (alpha): {alpha}\n",
    "   Critical Value: {critical_value}\n",
    "\n",
    "4. Make a Decision:\n",
    "   Conclusion: {conclusion}\n",
    "\"\"\"\n",
    "\n",
    "# Print the report\n",
    "print(report)\n"
   ]
  },
  {
   "cell_type": "code",
   "execution_count": null,
   "id": "a44f8b11-7107-4a98-b543-91855251bc9a",
   "metadata": {},
   "outputs": [],
   "source": []
  }
 ],
 "metadata": {
  "kernelspec": {
   "display_name": "anaconda-ai-2024.04-py310",
   "language": "python",
   "name": "conda-env-anaconda-ai-2024.04-py310-py"
  },
  "language_info": {
   "codemirror_mode": {
    "name": "ipython",
    "version": 3
   },
   "file_extension": ".py",
   "mimetype": "text/x-python",
   "name": "python",
   "nbconvert_exporter": "python",
   "pygments_lexer": "ipython3",
   "version": "3.10.13"
  }
 },
 "nbformat": 4,
 "nbformat_minor": 5
}
